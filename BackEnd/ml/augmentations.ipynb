{
 "cells": [
  {
   "cell_type": "code",
   "execution_count": 121,
   "metadata": {
    "id": "e9sepjkNKLaQ"
   },
   "outputs": [],
   "source": [
    "from albumentations import *      # For data augmentation\n",
    "import cv2                        # For loading images\n",
    "import os\n",
    "from shutil import copyfile\n",
    "from tqdm import tqdm\n",
    "import splitfolders"
   ]
  },
  {
   "cell_type": "code",
   "execution_count": 122,
   "metadata": {
    "id": "jSCxl-G08U5x",
    "outputId": "a9f7b072-f492-4271-901c-138185688d6e"
   },
   "outputs": [],
   "source": [
    "#input_folder = \"C:\\\\Users\\\\kalin\\\\Desktop\\\\Hacatons\\\\sochi\\\\Full_dataset_2\\\\\"\n",
    "# splitfolders.ratio(input_folder, 'C:\\\\Users\\\\kalin\\\\Desktop\\\\Hacatons\\\\sochi\\\\Full_dataset_2', ratio = (0.9, 0.1, 0.0), seed=42, group_prefix=None)"
   ]
  },
  {
   "cell_type": "code",
   "execution_count": 124,
   "metadata": {
    "id": "mOJi-DQ9KLaS",
    "outputId": "902bd6b3-ab39-4b0b-96e6-58cb9bc2da72"
   },
   "outputs": [
    {
     "name": "stderr",
     "output_type": "stream",
     "text": [
      "c:\\Users\\kalin\\Desktop\\Hacatons\\sochi\\sochi_hack\\.venv\\Lib\\site-packages\\albumentations\\augmentations\\transforms.py:1284: FutureWarning: RandomContrast has been deprecated. Please use RandomBrightnessContrast\n",
      "  warnings.warn(\n"
     ]
    }
   ],
   "source": [
    "transform1 = Compose([\n",
    "    RandomFog(always_apply=False, p=0.85, fog_coef_lower=0.10, fog_coef_upper=0.10, alpha_coef=0.1),\n",
    "    Sharpen(always_apply=False, p=0.85, alpha=(0.05, 0.1), lightness=(0.5, 1.0)),\n",
    "    Spatter(always_apply=False, p=1.0, mean=(0.94, 0.94), std=(50.0, 50.0), gauss_sigma=(2.0, 2.0), intensity=(-0.4, -0.4), cutout_threshold=(0.68, 0.68), mode=['rain']),\n",
    "    RandomContrast(p=0.85, limit=(-0.40, 0.1))],\n",
    "    bbox_params=BboxParams(format='yolo'))"
   ]
  },
  {
   "cell_type": "code",
   "execution_count": 125,
   "metadata": {
    "id": "sra5bDIdKLaT"
   },
   "outputs": [],
   "source": [
    "transform2 = Compose([\n",
    "    GaussianBlur(p = 0.85, blur_limit=(3,3)),\n",
    "    ToGray(p = 1.0, ),\n",
    "    CLAHE(p = 0.85, clip_limit=(1, 4), tile_grid_size=(8,8)),\n",
    "], bbox_params=BboxParams(format='yolo'))"
   ]
  },
  {
   "cell_type": "code",
   "execution_count": 126,
   "metadata": {
    "id": "t_RTlbJZKLaT",
    "outputId": "8eeddac6-1846-43c0-95ff-b8f086a4a383"
   },
   "outputs": [
    {
     "name": "stderr",
     "output_type": "stream",
     "text": [
      "c:\\Users\\kalin\\Desktop\\Hacatons\\sochi\\sochi_hack\\.venv\\Lib\\site-packages\\albumentations\\augmentations\\transforms.py:1692: UserWarning: Using default interpolation INTER_NEAREST, which is sub-optimal.Please specify interpolation mode for downscale and upscale explicitly.For additional information see this PR https://github.com/albumentations-team/albumentations/pull/584\n",
      "  warnings.warn(\n"
     ]
    }
   ],
   "source": [
    "transform3 = Compose([\n",
    "    ColorJitter(always_apply=False, p=0.75, brightness=(0.8, 1.2), contrast=(0.8, 1.2), saturation=(0.8, 1.2), hue=(-0.2, 0.2)),\n",
    "    Downscale(always_apply=False, p=0.75, scale_min=0.9, scale_max=0.9),\n",
    "], bbox_params=BboxParams(format='yolo'))"
   ]
  },
  {
   "cell_type": "code",
   "execution_count": 127,
   "metadata": {
    "id": "NOwDw1lrKLaT"
   },
   "outputs": [],
   "source": [
    "transform4 = Compose([\n",
    "    Emboss(always_apply=False, p=0.75, alpha=(0.2, 0.35), strength=(1.02, 3.0)),\n",
    "    Equalize(always_apply=False, p=0.75, mode='cv', by_channels=True),\n",
    "    ISONoise(always_apply=False, p=0.75, intensity=(0.1, 0.5), color_shift=(0.01, 0.05)),\n",
    "    RGBShift(always_apply=False, p=0.75, r_shift_limit=(-20, 20), g_shift_limit=(-20, 20), b_shift_limit=(-20, 20))\n",
    "], bbox_params=BboxParams(format='yolo'))"
   ]
  },
  {
   "cell_type": "code",
   "execution_count": 128,
   "metadata": {
    "id": "CIb5McVc8dyI"
   },
   "outputs": [],
   "source": [
    "transform5 = Compose(\n",
    "    [RandomRain(brightness_coefficient=0.7, drop_width=1, blur_value=2, p=1)], bbox_params=BboxParams(format='yolo'),\n",
    ")"
   ]
  },
  {
   "cell_type": "code",
   "execution_count": 129,
   "metadata": {
    "id": "Hl6M4MhZ8kH2"
   },
   "outputs": [],
   "source": [
    "transform6 = Compose(\n",
    "    [SafeRotate(always_apply=False, p=1.0, limit=(-19, 19), interpolation=0, border_mode=0, value=(0, 0, 0), mask_value=None)],\n",
    "    bbox_params=BboxParams(format='yolo')\n",
    ")"
   ]
  },
  {
   "cell_type": "code",
   "execution_count": 130,
   "metadata": {
    "id": "C3H5NRed8n9Z"
   },
   "outputs": [],
   "source": [
    "transform7 = Compose(\n",
    "    [SafeRotate(always_apply=False, p=1.0, limit=(-19, 19), interpolation=0, border_mode=0, value=(0, 0, 0), mask_value=None)], \n",
    "     bbox_params=BboxParams(format='yolo')\n",
    ")"
   ]
  },
  {
   "cell_type": "code",
   "execution_count": 131,
   "metadata": {
    "id": "JUOCMjuS8yvL"
   },
   "outputs": [],
   "source": [
    "transform8 = Compose(\n",
    "    [RandomContrast(always_apply=False,\n",
    "                      p=1.0,\n",
    "                      limit=(-0.5, 0.01))\n",
    "    ], bbox_params=BboxParams(format='yolo')\n",
    ")"
   ]
  },
  {
   "cell_type": "code",
   "execution_count": 132,
   "metadata": {
    "id": "l5Dncedb816o"
   },
   "outputs": [],
   "source": [
    "transform9 = Compose(\n",
    "    [PixelDropout(always_apply=False,\n",
    "                    p=1.0,\n",
    "                    dropout_prob=0.05,\n",
    "                    per_channel=0,\n",
    "                    drop_value=(0, 0, 0),\n",
    "                    mask_drop_value=None),\n",
    "     RGBShift(always_apply=False,\n",
    "                p=1.0,\n",
    "                r_shift_limit=(-24, 20),\n",
    "                g_shift_limit=(-24, 20),\n",
    "                b_shift_limit=(-24, 20))\n",
    "    ],\n",
    "    bbox_params=BboxParams(format='yolo')\n",
    ")"
   ]
  },
  {
   "cell_type": "code",
   "execution_count": 133,
   "metadata": {
    "id": "RVxi0yuBKLaT"
   },
   "outputs": [],
   "source": [
    "def load_img(path): # Загрузка изображения\n",
    "    image = cv2.imread(path)\n",
    "    return image"
   ]
  },
  {
   "cell_type": "code",
   "execution_count": 134,
   "metadata": {
    "id": "Bh-nFWMgKLaT"
   },
   "outputs": [
    {
     "name": "stderr",
     "output_type": "stream",
     "text": [
      "100%|██████████| 2148/2148 [17:41<00:00,  2.02it/s]\n"
     ]
    }
   ],
   "source": [
    "common_path = 'C:\\\\Users\\\\kalin\\\\Desktop\\\\Hacatons\\\\sochi\\\\sochi_hack\\\\BackEnd\\ml\\\\augmentations\\\\train_our'\n",
    "path_images = os.path.join(common_path, 'images')\n",
    "path_labels = os.path.join(common_path, 'labels')\n",
    "for filename in tqdm(os.listdir(path_images)):\n",
    "    image = load_img(os.path.join(path_images, filename))\n",
    "    with open(os.path.join(path_labels, f'{filename[:-4]}.txt')) as label_file:\n",
    "        labels = label_file.read()\n",
    "        labels = labels[1:]\n",
    "        labels = list(map(float, labels.split()))\n",
    "        labels.append('0')\n",
    "        bboxes = []\n",
    "        bboxes.append(labels)\n",
    "    transforms = [transform1, transform2, transform3, transform4, transform5, transform6, transform7, transform8, transform9] # Выбор аугментаций\n",
    "    if 'NONE' in filename.upper():\n",
    "        continue\n",
    "    for i, el in enumerate(transforms):\n",
    "        try:\n",
    "            augmented = el(image=image, bboxes=bboxes)\n",
    "        except Exception:\n",
    "            break\n",
    "        augmented_image = augmented['image']\n",
    "        augmented_bboxes = augmented['bboxes']\n",
    "        new_name = f'{filename[:-4]}-{i + 1}'\n",
    "        cv2.imwrite(os.path.join(path_images, f'{new_name}.jpg'), augmented_image) # запись нового аугментированного файла\n",
    "        copyfile(os.path.join(path_labels, f'{filename[:-4]}.txt'), (os.path.join(path_labels, f'{new_name}.txt'))) #Идет копирование label"
   ]
  }
 ],
 "metadata": {
  "colab": {
   "provenance": []
  },
  "kernelspec": {
   "display_name": "Python 3 (ipykernel)",
   "language": "python",
   "name": "python3"
  },
  "language_info": {
   "codemirror_mode": {
    "name": "ipython",
    "version": 3
   },
   "file_extension": ".py",
   "mimetype": "text/x-python",
   "name": "python",
   "nbconvert_exporter": "python",
   "pygments_lexer": "ipython3",
   "version": "3.11.2"
  }
 },
 "nbformat": 4,
 "nbformat_minor": 1
}
