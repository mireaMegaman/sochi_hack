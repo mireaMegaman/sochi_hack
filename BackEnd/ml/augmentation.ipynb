{
  "cells": [
    {
      "cell_type": "code",
      "execution_count": 68,
      "metadata": {
        "id": "e9sepjkNKLaQ"
      },
      "outputs": [],
      "source": [
        "from albumentations import *      # For data augmentation\n",
        "import cv2                        # For loading images\n",
        "import os\n",
        "from shutil import copyfile\n",
        "from tqdm import tqdm"
      ]
    },
    {
      "cell_type": "code",
      "execution_count": 69,
      "metadata": {
        "id": "FFImO6guKLaS",
        "outputId": "96e6d2c4-b688-4dad-fa47-93aba50d0dd0"
      },
      "outputs": [],
      "source": [
        "# transform1 = Compose([\n",
        "#     HorizontalFlip(always_apply=True),\n",
        "#     RandomContrast(limit=(-0.4, -0.06), p=0.8),\n",
        "#     Rotate(limit=(-35, 35), interpolation=4, border_mode=0, p=0.7),\n",
        "#     MotionBlur(blur_limit=(5, 11), p=0.6)\n",
        "# ])"
      ]
    },
    {
      "cell_type": "code",
      "execution_count": 70,
      "metadata": {
        "id": "mOJi-DQ9KLaS",
        "outputId": "902bd6b3-ab39-4b0b-96e6-58cb9bc2da72"
      },
      "outputs": [],
      "source": [
        "transform1 = Compose([\n",
        "    RandomFog(always_apply=False, p=0.85, fog_coef_lower=0.10, fog_coef_upper=0.10, alpha_coef=0.1),\n",
        "    Sharpen(always_apply=False, p=0.85, alpha=(0.05, 0.1), lightness=(0.5, 1.0)),\n",
        "    Spatter(always_apply=False, p=1.0, mean=(0.94, 0.94), std=(50.0, 50.0), gauss_sigma=(2.0, 2.0), intensity=(-0.4, -0.4), cutout_threshold=(0.68, 0.68), mode=['rain']),\n",
        "    RandomContrast(p=0.85, limit=(-0.40, 0.1))\n",
        "])"
      ]
    },
    {
      "cell_type": "code",
      "execution_count": 71,
      "metadata": {
        "id": "sra5bDIdKLaT"
      },
      "outputs": [],
      "source": [
        "transform2 = Compose([\n",
        "    GaussianBlur(p = 0.85, blur_limit=(3,3)),\n",
        "    ToGray(p = 1.0, ),\n",
        "    CLAHE(p = 0.85, clip_limit=(1, 4), tile_grid_size=(8,8)),\n",
        "])"
      ]
    },
    {
      "cell_type": "code",
      "execution_count": 72,
      "metadata": {
        "id": "t_RTlbJZKLaT"
      },
      "outputs": [],
      "source": [
        "transform3 = Compose([\n",
        "    ColorJitter(always_apply=False, p=0.75, brightness=(0.8, 1.2), contrast=(0.8, 1.2), saturation=(0.8, 1.2), hue=(-0.2, 0.2)),\n",
        "    CoarseDropout(always_apply=False, p=0.75, max_holes=100, max_height=4, max_width=4, min_holes=51, min_height=2, min_width=2, fill_value=(0, 0, 0), mask_fill_value=None),\n",
        "    Downscale(always_apply=False, p=0.75, scale_min=0.9, scale_max=0.9),\n",
        "])"
      ]
    },
    {
      "cell_type": "code",
      "execution_count": 73,
      "metadata": {
        "id": "NOwDw1lrKLaT"
      },
      "outputs": [],
      "source": [
        "transform4 = Compose([\n",
        "    Emboss(always_apply=False, p=0.75, alpha=(0.2, 0.35), strength=(1.02, 3.0)),\n",
        "    Equalize(always_apply=False, p=0.75, mode='cv', by_channels=True),\n",
        "    ISONoise(always_apply=False, p=0.75, intensity=(0.1, 0.5), color_shift=(0.01, 0.05)),\n",
        "    RGBShift(always_apply=False, p=0.75, r_shift_limit=(-20, 20), g_shift_limit=(-20, 20), b_shift_limit=(-20, 20))\n",
        "])"
      ]
    },
    {
      "cell_type": "code",
      "execution_count": 74,
      "metadata": {
        "id": "RVxi0yuBKLaT"
      },
      "outputs": [],
      "source": [
        "def load_img(path): # Загрузка изображения\n",
        "    image = cv2.imread(path)\n",
        "    return image"
      ]
    },
    {
      "cell_type": "code",
      "execution_count": 75,
      "metadata": {
        "id": "Bh-nFWMgKLaT"
      },
      "outputs": [
        {
          "name": "stderr",
          "output_type": "stream",
          "text": [
            "100%|██████████| 1009/1009 [23:09<00:00,  1.38s/it]\n"
          ]
        }
      ],
      "source": [
        "path_images = 'C:\\\\Users\\\\\\kalin\\\\\\Desktop\\\\\\Hacatons\\\\\\sochi\\\\\\Full_dataset\\\\\\images\\\\'  \n",
        "path_labels = 'C:\\\\Users\\\\kalin\\\\Desktop\\\\Hacatons\\\\sochi\\\\Full_dataset\\\\labels\\\\'\n",
        "for filename in tqdm(os.listdir(path_images)):\n",
        "    image = load_img(os.path.join(path_images, filename))\n",
        "    transforms = [transform1, transform2, transform3, transform4] # Выбор аугментаций\n",
        "    for i, el in enumerate(transforms):\n",
        "        augmented = el(image=image)\n",
        "        augmented_image = augmented['image']\n",
        "        new_name = f'{filename[:-4]}-{i + 1}'\n",
        "        cv2.imwrite(os.path.join(path_images, f'{new_name}.jpg'), augmented_image) # запись нового аугментированного файла\n",
        "        copyfile(os.path.join(path_labels, f'{filename[:-4]}.txt'), (os.path.join(path_labels, f'{new_name}.txt'))) #Идет копирование label"
      ]
    },
    {
      "cell_type": "code",
      "execution_count": null,
      "metadata": {
        "id": "gVkGz9luKLaU"
      },
      "outputs": [],
      "source": [
        "#НЕ ТРОГАЙ!!!\n",
        "\n",
        "all = './All/'\n",
        "for index, filename in enumerate(os.listdir(all)):\n",
        "    image = load_img(os.path.join(all, filename))\n",
        "    transforms = [transform2]\n",
        "    for i, el in enumerate(transforms):\n",
        "        augmented = el(image=image)\n",
        "        augmented_image = augmented['image']\n",
        "        cv2.imwrite(os.path.join('./Augmented/', filename), augmented_image)\n",
        "    if index == 10:\n",
        "        break"
      ]
    }
  ],
  "metadata": {
    "colab": {
      "provenance": []
    },
    "kernelspec": {
      "display_name": ".venv",
      "language": "python",
      "name": "python3"
    },
    "language_info": {
      "codemirror_mode": {
        "name": "ipython",
        "version": 3
      },
      "file_extension": ".py",
      "mimetype": "text/x-python",
      "name": "python",
      "nbconvert_exporter": "python",
      "pygments_lexer": "ipython3",
      "version": "3.11.2"
    },
    "orig_nbformat": 4
  },
  "nbformat": 4,
  "nbformat_minor": 0
}
